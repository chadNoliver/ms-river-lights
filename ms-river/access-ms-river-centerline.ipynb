{
  "cells": [
    {
      "cell_type": "code",
      "metadata": {},
      "source": [
        "import requests\n",
        "import geopandas\n",
        "url = 'https://www.sciencebase.gov/catalogMaps/mapping/ows/5a145fdde4b09fc93dcfd36c?mode=download&request=kml&service=wms&layers=RiverHRCenterlinesCombo'\n",
        "r = requests.get(url, allow_redirects=True)\n",
        "open('allrivers.kml', 'wb').write(r.content)\n",
        "print(\"hello\")"
      ],
      "id": "d493bb44",
      "execution_count": null,
      "outputs": []
    }
  ],
  "metadata": {
    "kernelspec": {
      "name": "python3",
      "language": "python",
      "display_name": "Python 3 (ipykernel)"
    }
  },
  "nbformat": 4,
  "nbformat_minor": 5
}